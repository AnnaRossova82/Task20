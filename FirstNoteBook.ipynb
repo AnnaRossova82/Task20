{
 "cells": [
  {
   "cell_type": "markdown",
   "id": "ac97f9fa",
   "metadata": {},
   "source": [
    "## First code\n"
   ]
  },
  {
   "cell_type": "code",
   "execution_count": 5,
   "id": "53958cca",
   "metadata": {},
   "outputs": [
    {
     "name": "stdout",
     "output_type": "stream",
     "text": [
      "hello there!\n"
     ]
    }
   ],
   "source": [
    "print(\"hello there!\")"
   ]
  },
  {
   "cell_type": "markdown",
   "id": "ca7ca11a",
   "metadata": {},
   "source": [
    "| year      | rank     | company               | revenue   | profit  |\n",
    "| :---      |  :----:  |  :----:               |  :----:   |    ---: |\n",
    "| 1955      | 229      | Norton                | 135.0     |N.A.     |\n",
    "| 1955      | 291      | Schlitz Brewing       | 100.0     |N.A.     |       \n",
    "| 1955      | 295      | Pacific Vegetable Oil | 97.9      |N.A.     |\n",
    "| 1955      | 297      | Libermann Breweries   | 96.0      |N.A.     |\n",
    "| 1955      | 353      | Minneapolis-Moline    | 77.4      |N.A.     |"
   ]
  },
  {
   "cell_type": "markdown",
   "id": "36c23119",
   "metadata": {},
   "source": []
  },
  {
   "cell_type": "code",
   "execution_count": 1,
   "id": "2e7c2517",
   "metadata": {},
   "outputs": [
    {
     "data": {
      "application/json": {
       "cell": {
        "!": "OSMagics",
        "HTML": "Other",
        "SVG": "Other",
        "bash": "Other",
        "capture": "ExecutionMagics",
        "cmd": "Other",
        "debug": "ExecutionMagics",
        "file": "Other",
        "html": "DisplayMagics",
        "javascript": "DisplayMagics",
        "js": "DisplayMagics",
        "latex": "DisplayMagics",
        "markdown": "DisplayMagics",
        "perl": "Other",
        "prun": "ExecutionMagics",
        "pypy": "Other",
        "python": "Other",
        "python2": "Other",
        "python3": "Other",
        "ruby": "Other",
        "script": "ScriptMagics",
        "sh": "Other",
        "svg": "DisplayMagics",
        "sx": "OSMagics",
        "system": "OSMagics",
        "time": "ExecutionMagics",
        "timeit": "ExecutionMagics",
        "writefile": "OSMagics"
       },
       "line": {
        "alias": "OSMagics",
        "alias_magic": "BasicMagics",
        "autoawait": "AsyncMagics",
        "autocall": "AutoMagics",
        "automagic": "AutoMagics",
        "autosave": "KernelMagics",
        "bookmark": "OSMagics",
        "cd": "OSMagics",
        "clear": "KernelMagics",
        "cls": "KernelMagics",
        "colors": "BasicMagics",
        "conda": "PackagingMagics",
        "config": "ConfigMagics",
        "connect_info": "KernelMagics",
        "copy": "Other",
        "ddir": "Other",
        "debug": "ExecutionMagics",
        "dhist": "OSMagics",
        "dirs": "OSMagics",
        "doctest_mode": "BasicMagics",
        "echo": "Other",
        "ed": "Other",
        "edit": "KernelMagics",
        "env": "OSMagics",
        "gui": "BasicMagics",
        "hist": "Other",
        "history": "HistoryMagics",
        "killbgscripts": "ScriptMagics",
        "ldir": "Other",
        "less": "KernelMagics",
        "load": "CodeMagics",
        "load_ext": "ExtensionMagics",
        "loadpy": "CodeMagics",
        "logoff": "LoggingMagics",
        "logon": "LoggingMagics",
        "logstart": "LoggingMagics",
        "logstate": "LoggingMagics",
        "logstop": "LoggingMagics",
        "ls": "Other",
        "lsmagic": "BasicMagics",
        "macro": "ExecutionMagics",
        "magic": "BasicMagics",
        "matplotlib": "PylabMagics",
        "mkdir": "Other",
        "more": "KernelMagics",
        "notebook": "BasicMagics",
        "page": "BasicMagics",
        "pastebin": "CodeMagics",
        "pdb": "ExecutionMagics",
        "pdef": "NamespaceMagics",
        "pdoc": "NamespaceMagics",
        "pfile": "NamespaceMagics",
        "pinfo": "NamespaceMagics",
        "pinfo2": "NamespaceMagics",
        "pip": "PackagingMagics",
        "popd": "OSMagics",
        "pprint": "BasicMagics",
        "precision": "BasicMagics",
        "prun": "ExecutionMagics",
        "psearch": "NamespaceMagics",
        "psource": "NamespaceMagics",
        "pushd": "OSMagics",
        "pwd": "OSMagics",
        "pycat": "OSMagics",
        "pylab": "PylabMagics",
        "qtconsole": "KernelMagics",
        "quickref": "BasicMagics",
        "recall": "HistoryMagics",
        "rehashx": "OSMagics",
        "reload_ext": "ExtensionMagics",
        "ren": "Other",
        "rep": "Other",
        "rerun": "HistoryMagics",
        "reset": "NamespaceMagics",
        "reset_selective": "NamespaceMagics",
        "rmdir": "Other",
        "run": "ExecutionMagics",
        "save": "CodeMagics",
        "sc": "OSMagics",
        "set_env": "OSMagics",
        "store": "StoreMagics",
        "sx": "OSMagics",
        "system": "OSMagics",
        "tb": "ExecutionMagics",
        "time": "ExecutionMagics",
        "timeit": "ExecutionMagics",
        "unalias": "OSMagics",
        "unload_ext": "ExtensionMagics",
        "who": "NamespaceMagics",
        "who_ls": "NamespaceMagics",
        "whos": "NamespaceMagics",
        "xdel": "NamespaceMagics",
        "xmode": "BasicMagics"
       }
      },
      "text/plain": [
       "Available line magics:\n",
       "%alias  %alias_magic  %autoawait  %autocall  %automagic  %autosave  %bookmark  %cd  %clear  %cls  %colors  %conda  %config  %connect_info  %copy  %ddir  %debug  %dhist  %dirs  %doctest_mode  %echo  %ed  %edit  %env  %gui  %hist  %history  %killbgscripts  %ldir  %less  %load  %load_ext  %loadpy  %logoff  %logon  %logstart  %logstate  %logstop  %ls  %lsmagic  %macro  %magic  %matplotlib  %mkdir  %more  %notebook  %page  %pastebin  %pdb  %pdef  %pdoc  %pfile  %pinfo  %pinfo2  %pip  %popd  %pprint  %precision  %prun  %psearch  %psource  %pushd  %pwd  %pycat  %pylab  %qtconsole  %quickref  %recall  %rehashx  %reload_ext  %ren  %rep  %rerun  %reset  %reset_selective  %rmdir  %run  %save  %sc  %set_env  %store  %sx  %system  %tb  %time  %timeit  %unalias  %unload_ext  %who  %who_ls  %whos  %xdel  %xmode\n",
       "\n",
       "Available cell magics:\n",
       "%%!  %%HTML  %%SVG  %%bash  %%capture  %%cmd  %%debug  %%file  %%html  %%javascript  %%js  %%latex  %%markdown  %%perl  %%prun  %%pypy  %%python  %%python2  %%python3  %%ruby  %%script  %%sh  %%svg  %%sx  %%system  %%time  %%timeit  %%writefile\n",
       "\n",
       "Automagic is ON, % prefix IS NOT needed for line magics."
      ]
     },
     "execution_count": 1,
     "metadata": {},
     "output_type": "execute_result"
    }
   ],
   "source": [
    "%lsmagic\n"
   ]
  },
  {
   "cell_type": "code",
   "execution_count": 2,
   "id": "4a7c1695",
   "metadata": {},
   "outputs": [
    {
     "name": "stdout",
     "output_type": "stream",
     "text": [
      "\n",
      "Automagic is ON, % prefix IS NOT needed for line magics.\n"
     ]
    }
   ],
   "source": [
    "%automagic ON"
   ]
  },
  {
   "cell_type": "code",
   "execution_count": 5,
   "id": "a7ab72fa",
   "metadata": {},
   "outputs": [
    {
     "name": "stdout",
     "output_type": "stream",
     "text": [
      "Collecting category_encoders\n",
      "  Downloading category_encoders-2.6.0-py2.py3-none-any.whl (81 kB)\n",
      "     -------------------------------------- 81.2/81.2 kB 379.4 kB/s eta 0:00:00\n",
      "Requirement already satisfied: scikit-learn>=0.20.0 in c:\\users\\38098\\anaconda3\\lib\\site-packages (from category_encoders) (1.0.2)\n",
      "Requirement already satisfied: statsmodels>=0.9.0 in c:\\users\\38098\\anaconda3\\lib\\site-packages (from category_encoders) (0.13.2)\n",
      "Requirement already satisfied: numpy>=1.14.0 in c:\\users\\38098\\anaconda3\\lib\\site-packages (from category_encoders) (1.21.5)\n",
      "Requirement already satisfied: scipy>=1.0.0 in c:\\users\\38098\\anaconda3\\lib\\site-packages (from category_encoders) (1.9.1)\n",
      "Requirement already satisfied: patsy>=0.5.1 in c:\\users\\38098\\anaconda3\\lib\\site-packages (from category_encoders) (0.5.2)\n",
      "Requirement already satisfied: pandas>=1.0.5 in c:\\users\\38098\\anaconda3\\lib\\site-packages (from category_encoders) (1.4.4)\n",
      "Requirement already satisfied: python-dateutil>=2.8.1 in c:\\users\\38098\\anaconda3\\lib\\site-packages (from pandas>=1.0.5->category_encoders) (2.8.2)\n",
      "Requirement already satisfied: pytz>=2020.1 in c:\\users\\38098\\anaconda3\\lib\\site-packages (from pandas>=1.0.5->category_encoders) (2022.1)\n",
      "Requirement already satisfied: six in c:\\users\\38098\\anaconda3\\lib\\site-packages (from patsy>=0.5.1->category_encoders) (1.16.0)\n",
      "Requirement already satisfied: threadpoolctl>=2.0.0 in c:\\users\\38098\\anaconda3\\lib\\site-packages (from scikit-learn>=0.20.0->category_encoders) (2.2.0)\n",
      "Requirement already satisfied: joblib>=0.11 in c:\\users\\38098\\anaconda3\\lib\\site-packages (from scikit-learn>=0.20.0->category_encoders) (1.1.0)\n",
      "Requirement already satisfied: packaging>=21.3 in c:\\users\\38098\\anaconda3\\lib\\site-packages (from statsmodels>=0.9.0->category_encoders) (21.3)\n",
      "Requirement already satisfied: pyparsing!=3.0.5,>=2.0.2 in c:\\users\\38098\\anaconda3\\lib\\site-packages (from packaging>=21.3->statsmodels>=0.9.0->category_encoders) (3.0.9)\n",
      "Installing collected packages: category_encoders\n",
      "Successfully installed category_encoders-2.6.0\n"
     ]
    }
   ],
   "source": [
    "!pip install category_encoders\n"
   ]
  },
  {
   "cell_type": "code",
   "execution_count": 20,
   "id": "6f0d9782",
   "metadata": {},
   "outputs": [
    {
     "name": "stdout",
     "output_type": "stream",
     "text": [
      "Requirement already satisfied: matplotlib in c:\\users\\38098\\anaconda3\\lib\\site-packages (3.5.2)\n",
      "Requirement already satisfied: pillow>=6.2.0 in c:\\users\\38098\\anaconda3\\lib\\site-packages (from matplotlib) (9.2.0)\n",
      "Requirement already satisfied: kiwisolver>=1.0.1 in c:\\users\\38098\\anaconda3\\lib\\site-packages (from matplotlib) (1.4.2)\n",
      "Requirement already satisfied: cycler>=0.10 in c:\\users\\38098\\anaconda3\\lib\\site-packages (from matplotlib) (0.11.0)\n",
      "Requirement already satisfied: packaging>=20.0 in c:\\users\\38098\\anaconda3\\lib\\site-packages (from matplotlib) (21.3)\n",
      "Requirement already satisfied: pyparsing>=2.2.1 in c:\\users\\38098\\anaconda3\\lib\\site-packages (from matplotlib) (3.0.9)\n",
      "Requirement already satisfied: fonttools>=4.22.0 in c:\\users\\38098\\anaconda3\\lib\\site-packages (from matplotlib) (4.25.0)\n",
      "Requirement already satisfied: numpy>=1.17 in c:\\users\\38098\\anaconda3\\lib\\site-packages (from matplotlib) (1.21.5)\n",
      "Requirement already satisfied: python-dateutil>=2.7 in c:\\users\\38098\\anaconda3\\lib\\site-packages (from matplotlib) (2.8.2)\n",
      "Requirement already satisfied: six>=1.5 in c:\\users\\38098\\anaconda3\\lib\\site-packages (from python-dateutil>=2.7->matplotlib) (1.16.0)\n"
     ]
    }
   ],
   "source": [
    "!pip install matplotlib"
   ]
  },
  {
   "cell_type": "code",
   "execution_count": 25,
   "id": "5a1f64bf",
   "metadata": {},
   "outputs": [],
   "source": [
    "import numpy as np"
   ]
  },
  {
   "cell_type": "code",
   "execution_count": 31,
   "id": "36b2bfe6",
   "metadata": {},
   "outputs": [],
   "source": [
    "import random"
   ]
  },
  {
   "cell_type": "code",
   "execution_count": 33,
   "id": "aac82471",
   "metadata": {},
   "outputs": [
    {
     "name": "stdout",
     "output_type": "stream",
     "text": [
      "Collecting RandomWords\n",
      "  Using cached RandomWords-0.4.0.tar.gz (46 kB)\n",
      "  Preparing metadata (setup.py): started\n",
      "  Preparing metadata (setup.py): finished with status 'done'\n",
      "Building wheels for collected packages: RandomWords\n",
      "  Building wheel for RandomWords (setup.py): started\n",
      "  Building wheel for RandomWords (setup.py): finished with status 'done'\n",
      "  Created wheel for RandomWords: filename=RandomWords-0.4.0-py3-none-any.whl size=46029 sha256=ac8734e2378591e81b4fad6a7d15fb5bf664320f4cc562b4e2c38211eb5c4b95\n",
      "  Stored in directory: c:\\users\\38098\\appdata\\local\\pip\\cache\\wheels\\a1\\77\\d2\\a2abaa36fb80e6e30d0d0fbfea87ae93058bfe16f909669369\n",
      "Successfully built RandomWords\n",
      "Installing collected packages: RandomWords\n",
      "Successfully installed RandomWords-0.4.0\n"
     ]
    }
   ],
   "source": [
    "!pip install RandomWords"
   ]
  },
  {
   "cell_type": "code",
   "execution_count": 34,
   "id": "810e78c3",
   "metadata": {},
   "outputs": [],
   "source": [
    "from random_words import RandomWords"
   ]
  },
  {
   "cell_type": "code",
   "execution_count": 39,
   "id": "dbd54868",
   "metadata": {},
   "outputs": [
    {
     "name": "stdout",
     "output_type": "stream",
     "text": [
      "[['objectives'], ['patient'], ['augmentation'], ['fluids'], ['splices'], ['shipping'], ['noon'], ['hinge'], ['semicolon'], ['mug'], ['rotor'], ['dresses'], ['sorts'], ['boils'], ['instructors'], ['bombs'], ['confidence'], ['tractors'], ['figures'], ['subdivision'], ['tents'], ['bridge'], ['housing'], ['contempt'], ['clang'], ['manners'], ['searchlight'], ['records'], ['conveniences'], ['months'], ['plates'], ['kilogram'], ['tin'], ['weed'], ['disadvantage'], ['rap'], ['semiconductors'], ['power'], ['steeples'], ['foods'], ['challenge'], ['radiator'], ['aid'], ['condition'], ['offset'], ['trips'], ['abrasives'], ['titles'], ['sisters'], ['mast'], ['fare'], ['justice'], ['chances'], ['demonstrations'], ['replenishments'], ['duplicates'], ['gum'], ['bows'], ['swamp'], ['principals'], ['compromise'], ['coders'], ['jails'], ['specialists'], ['sides'], ['crafts'], ['hertz'], ['raises'], ['hall'], ['batch'], ['slit'], ['masks'], ['surfaces'], ['dip'], ['terrains'], ['shed'], ['rush'], ['investigations'], ['presences'], ['computations'], ['targets'], ['object'], ['kiss'], ['review'], ['failure'], ['hail'], ['debris'], ['delays'], ['deduction'], ['armors'], ['tomorrows'], ['verbs'], ['folders'], ['semaphores'], ['chimneys'], ['component'], ['belts'], ['bud'], ['attempts'], ['code'], ['surges'], ['opportunities'], ['stoppered'], ['index'], ['stencils'], ['grooms'], ['doors'], ['updates'], ['passivations'], ['rinses'], ['increment'], ['problem'], ['sinks'], ['visibilities'], ['weld'], ['movements'], ['collision'], ['junction'], ['tomorrows'], ['currents'], ['shock'], ['runouts'], ['turpitude'], ['mattresses'], ['delimiters'], ['families'], ['alarm'], ['identification'], ['customs'], ['drug'], ['liberty'], ['escape'], ['mask'], ['perforator'], ['chalks'], ['conveniences'], ['breaths'], ['drill'], ['calendars'], ['result'], ['want'], ['subprogram'], ['terminals'], ['clap'], ['apostrophe'], ['basket'], ['warfare'], ['definition'], ['thoughts'], ['revisions'], ['bag'], ['opinions'], ['computation'], ['length'], ['curves'], ['assistance'], ['things'], ['aluminum'], ['desert'], ['decisions'], ['bases'], ['services'], ['distresses'], ['chair'], ['amperages'], ['swim'], ['percents'], ['transformers'], ['coordinate'], ['folder'], ['chocks'], ['drums'], ['circulations'], ['withdrawal'], ['henry'], ['mitts'], ['plugs'], ['danger'], ['chair'], ['solvent'], ['scheduler'], ['attorneys'], ['task'], ['conventions'], ['opportunities'], ['diagnostics'], ['folds'], ['multimeter'], ['screens'], ['researcher'], ['equations'], ['direction'], ['ceiling'], ['echo'], ['election'], ['methods'], ['strikes'], ['file'], ['cuts'], ['taste'], ['pounds'], ['exercise'], ['agent'], ['seamen'], ['quartermaster'], ['rescue'], ['specification'], ['human'], ['workings'], ['move'], ['officers'], ['veteran'], ['filler'], ['burn'], ['reduction'], ['affair'], ['puddles'], ['clumps'], ['meanings'], ['calibrations'], ['swimmer'], ['inspections'], ['blank'], ['ground'], ['shadow'], ['molecule'], ['tilling'], ['investigators'], ['multisystem'], ['use'], ['walk'], ['transiting'], ['bilge'], ['housings'], ['offer'], ['panes'], ['wounds'], ['coil'], ['abuse'], ['talker'], ['dependencies'], ['mates'], ['effects'], ['guy'], ['dynamics'], ['watchstanding'], ['principles'], ['litre'], ['reproduction'], ['panes'], ['areas'], ['nest'], ['replenishment'], ['pass'], ['volume'], ['camps'], ['end'], ['presentations'], ['chapters'], ['foam'], ['ease'], ['presses'], ['streaks'], ['shores'], ['references'], ['theories'], ['abbreviation'], ['attesting'], ['size'], ['magazine'], ['humps'], ['scenes'], ['capacitors'], ['paragraph'], ['defects'], ['radiation'], ['wagons'], ['combat'], ['bend'], ['aircraft'], ['neglect'], ['partitions'], ['kilogram'], ['accidents'], ['documentations'], ['aim'], ['acceptances'], ['stress'], ['toe'], ['conspiracy'], ['deliveries'], ['backgrounds'], ['thumb'], ['workloads'], ['deviation'], ['highways'], ['insanities'], ['dawns'], ['contributions'], ['selection'], ['overcoat'], ['tubes'], ['collar'], ['aluminums'], ['income'], ['profile'], ['curvatures'], ['flashlight'], ['binoculars'], ['valve'], ['steams'], ['wounds'], ['window'], ['minutes'], ['currencies'], ['bushings'], ['initiators'], ['allegations'], ['aviation'], ['august'], ['discipline'], ['fogs'], ['recognition'], ['kettle'], ['leads'], ['replenishment'], ['average'], ['threshold'], ['vehicles'], ['sixties'], ['win'], ['pulses'], ['wedding'], ['plexiglass'], ['licenses'], ['sundays'], ['extensions'], ['disease'], ['limitations'], ['runouts'], ['hall'], ['adherences'], ['boatswains'], ['bulk'], ['illustration'], ['masters'], ['medals'], ['leakage'], ['conductor'], ['meeting'], ['transformers'], ['assault'], ['authorizations'], ['future'], ['eligibility'], ['buckles'], ['rotor'], ['items'], ['laboratory'], ['others'], ['radiation'], ['beliefs'], ['hangars'], ['curls'], ['september'], ['gyro'], ['cannons'], ['hopes'], ['dab'], ['stitch'], ['churn'], ['hills'], ['neutrons'], ['males'], ['heels'], ['papers'], ['cradle'], ['contraband'], ['reel'], ['sewer'], ['sections'], ['mechanism'], ['military'], ['basis'], ['service'], ['curves'], ['slice'], ['period'], ['atoms'], ['hierarchy'], ['matters'], ['buys'], ['energies'], ['trust'], ['relationships'], ['limitations'], ['ways'], ['companies'], ['cheaters'], ['command'], ['detonation'], ['drunkeness'], ['chair'], ['oars'], ['additions'], ['construction'], ['originators'], ['reason'], ['start'], ['ivory'], ['printouts'], ['shovels'], ['rubber'], ['drags'], ['peak'], ['combatants'], ['leathers'], ['drives'], ['force'], ['rudders'], ['energies'], ['pins'], ['departure'], ['mules'], ['currencies'], ['chapters'], ['appellate'], ['stove'], ['procurement'], ['differences'], ['backgrounds'], ['sled'], ['overvoltages'], ['flashlight'], ['discretion'], ['weights'], ['average'], ['doses'], ['treatments'], ['breaths'], ['costs'], ['detents'], ['pulls'], ['listing'], ['ladders'], ['system'], ['bulkheads'], ['cot'], ['targets'], ['shots'], ['brother'], ['rejection'], ['notices'], ['waves'], ['pear'], ['steeple'], ['skins'], ['joints'], ['slits'], ['slope'], ['warning'], ['difficulty'], ['swallow'], ['tides'], ['drill'], ['administration'], ['merchant'], ['knob'], ['jig'], ['artillery'], ['store'], ['brother'], ['fleets'], ['terminators'], ['buzzer'], ['livers'], ['ropes'], ['hardware'], ['screw'], ['checkers'], ['command'], ['stall'], ['attorneys'], ['checkers'], ['gangway'], ['bend'], ['augmentations'], ['helmsman'], ['airport'], ['printouts'], ['manufacturer'], ['egg'], ['bubble'], ['ventilation'], ['purpose'], ['lettering'], ['sounds'], ['loops'], ['strip'], ['solders'], ['arraignments'], ['result'], ['compresses'], ['stapler'], ['temper'], ['clerk'], ['performance'], ['discontinuances'], ['itineraries'], ['subtask'], ['technicians'], ['partners'], ['shafts'], ['officers'], ['threes'], ['runaways'], ['grasses'], ['alternate'], ['verses'], ['abbreviations'], ['davits'], ['highways'], ['spares'], ['reservist'], ['fittings'], ['masks'], ['cheat'], ['sister'], ['foreheads'], ['hillside'], ['nylons'], ['lungs'], ['lumber'], ['challenge'], ['eleven'], ['weight'], ['beads'], ['gunfire'], ['invention'], ['mate'], ['casts'], ['assemblies'], ['sex'], ['parts'], ['boosts'], ['sill'], ['term'], ['collection'], ['bullet'], ['monday'], ['paces'], ['articles'], ['title'], ['scab'], ['ocean'], ['pumps'], ['canal'], ['coordinate'], ['sea'], ['bullet'], ['alphabet'], ['armful'], ['teaspoons'], ['towns'], ['billets'], ['turnarounds'], ['jumper'], ['cough'], ['radius'], ['workings'], ['mint'], ['desertion'], ['lubricant'], ['signalers'], ['crews'], ['ceremonies'], ['tilling'], ['schedulers'], ['toothpicks'], ['typists'], ['medium'], ['worries'], ['basis'], ['transmitter'], ['hate'], ['beacons'], ['offenders'], ['hardcopies'], ['bands'], ['start'], ['degrees'], ['attack'], ['oranges'], ['preposition'], ['levels'], ['deliveries'], ['propeller'], ['mountain'], ['typewriters'], ['cleanliness'], ['calculation'], ['audit'], ['shirt'], ['flames'], ['apostrophe'], ['stator'], ['rescuer'], ['resource'], ['dot'], ['glide'], ['conditions'], ['tub'], ['solders'], ['stomachs'], ['patch'], ['sparks'], ['holddowns'], ['crystals'], ['breakdowns'], ['perforations'], ['reluctance'], ['paygrade'], ['combs'], ['cot'], ['parameters'], ['chances'], ['contents'], ['paragraphs'], ['buzzes'], ['aptitudes'], ['presumption'], ['pink'], ['particle'], ['approvals'], ['slate'], ['june'], ['fireball'], ['clouds'], ['moment'], ['choke'], ['bandages'], ['multisystems'], ['apprenticeships'], ['minds'], ['misalinements'], ['exposure'], ['administrator'], ['glows'], ['laundry'], ['chokes'], ['tasks'], ['boys'], ['diseases'], ['accident'], ['disassemblies'], ['videos'], ['bars'], ['activities'], ['hangar'], ['leg'], ['analyzer'], ['thickness'], ['grants'], ['bottom'], ['deed'], ['project'], ['crowns'], ['semicolons'], ['milliliter'], ['floors'], ['belts'], ['apples'], ['disgust'], ['land'], ['matters'], ['seconds'], ['handler'], ['hate'], ['ratio'], ['wartime'], ['mail'], ['debt'], ['tacks'], ['coil'], ['cord'], ['submarine'], ['rockets'], ['hope'], ['bypasses'], ['link'], ['bridge'], ['bather'], ['dye'], ['kicks'], ['specialties'], ['falls'], ['growth'], ['debris'], ['hall'], ['licenses'], ['paste'], ['yarns'], ['calories'], ['bigamy'], ['tension'], ['alternates'], ['originators'], ['clothes'], ['civilians'], ['biases'], ['patches'], ['height'], ['raincoat'], ['participation'], ['bowl'], ['utilizations'], ['paygrades'], ['health'], ['wastes'], ['morale'], ['comma'], ['fellows'], ['prerequisite'], ['wage'], ['legend'], ['wastes'], ['striker'], ['cavities'], ['lines'], ['qualifier'], ['addressees'], ['particles'], ['jars'], ['possibility'], ['directory'], ['lever'], ['hangar'], ['sea'], ['compressor'], ['decoders'], ['cracks'], ['infection'], ['crowds'], ['recipient'], ['things'], ['bush'], ['presidents'], ['oxygens'], ['decoder'], ['paw'], ['pipes'], ['executives'], ['fellow'], ['program'], ['merchants'], ['stocking'], ['bows'], ['motel'], ['saddles'], ['twos'], ['watches'], ['communication'], ['shaves'], ['directive'], ['harmony'], ['abuses'], ['prism'], ['traffic'], ['sabotage'], ['addition'], ['drifts'], ['hearts'], ['cups'], ['tunes'], ['henrys'], ['swivel'], ['tick'], ['buzzes'], ['pegs'], ['seaman'], ['concerns'], ['sleeves'], ['grains'], ['sweepers'], ['noses'], ['insanity'], ['typewriters'], ['aluminum'], ['balloon'], ['forecast'], ['augmentations'], ['abettor'], ['flashlight'], ['oxide'], ['stowage'], ['rollers'], ['output'], ['prepositions'], ['coordinator'], ['fireball'], ['months'], ['intensities'], ['desires'], ['tape'], ['commendation'], ['artillery'], ['chokes'], ['forks'], ['holders'], ['submarining'], ['menu'], ['cost'], ['strips'], ['field'], ['elements'], ['chests'], ['parachute'], ['itinerary'], ['integer'], ['stationery'], ['blackboards'], ['results'], ['stitch'], ['truths'], ['distortion'], ['stubs'], ['cough'], ['quota'], ['wardrooms'], ['sweep'], ['nickel'], ['injections'], ['handful'], ['pounds'], ['levers'], ['reproduction'], ['tune'], ['blurs'], ['briefing'], ['base'], ['ball'], ['longitude'], ['necks'], ['utilization'], ['schoolroom'], ['bomb'], ['recordkeeping'], ['heats'], ['moonlight'], ['typist'], ['seasons'], ['paragraph'], ['drawer'], ['semicolons'], ['shower'], ['sockets'], ['knob'], ['sip'], ['writers'], ['ceremony'], ['prefixes'], ['helmets'], ['boxcar'], ['skip'], ['care'], ['transits'], ['dose'], ['annex'], ['motel'], ['seamanship'], ['operators'], ['administrators'], ['strands'], ['checkout'], ['collar'], ['ounces'], ['acres'], ['laces'], ['authorizations'], ['cushion'], ['transit'], ['accomplishments'], ['ices'], ['weddings'], ['handle'], ['gate'], ['booms'], ['responsibilities'], ['investigators'], ['densities'], ['coughs'], ['plate'], ['purposes'], ['manners'], ['lung'], ['entrapment'], ['manufacturers'], ['paw'], ['woods'], ['pleads'], ['brooks'], ['prices'], ['bristles'], ['stool'], ['kills'], ['behaviors'], ['dispatchers'], ['deductions'], ['preliminaries'], ['mist'], ['official'], ['personalities'], ['sills'], ['oils'], ['drives'], ['desks'], ['ponds'], ['disabilities'], ['runner'], ['capacitor'], ['office'], ['arms'], ['greases'], ['wagons'], ['command'], ['deduction'], ['lapse'], ['cathodes'], ['watts'], ['excess'], ['graphs'], ['times'], ['headquarters'], ['tolerances'], ['communications'], ['sponge'], ['intercoms'], ['moneys'], ['pack'], ['pull'], ['carriages'], ['typewriter'], ['stairs'], ['words'], ['shed'], ['pilots'], ['rocks'], ['promotions'], ['signaler'], ['fixture'], ['selection'], ['doorsteps'], ['mechanisms'], ['frequencies'], ['averages'], ['cable'], ['career'], ['electrolytes'], ['mists'], ['accord'], ['ivory'], ['variations'], ['activities'], ['books'], ['chaplains'], ['petition'], ['duress'], ['thunder'], ['overalls'], ['receptacles'], ['drunkeness'], ['programmers'], ['deployment'], ['men'], ['thumb'], ['copper'], ['thoughts'], ['comments'], ['knowledge'], ['journeys'], ['success'], ['properties'], ['jury'], ['flange'], ['appraisals'], ['steps'], ['cake'], ['delights'], ['leaving'], ['cockpits'], ['displays'], ['stopper'], ['mineral'], ['defection'], ['difference'], ['films'], ['here'], ['hums'], ['stamps'], ['oar'], ['fixture'], ['shaft'], ['milks'], ['gyroscope'], ['cakes'], ['hole'], ['rams'], ['circumstance'], ['adjective'], ['purposes'], ['skin'], ['policies'], ['candidates'], ['page'], ['sisters'], ['purge'], ['porter'], ['cast'], ['comments'], ['collars'], ['facilities'], ['contamination'], ['buses'], ['panel'], ['documentation'], ['ports'], ['tomorrows'], ['clip'], ['permit'], ['recommendations'], ['oscillations'], ['attorneys'], ['danger'], ['fifty'], ['signal'], ['drivers'], ['bearings'], ['injuries'], ['moistures'], ['jackets'], ['play'], ['couplings'], ['recapitulations'], ['interpreter'], ['till'], ['surprises'], ['dictionary'], ['hauls'], ['potato'], ['sprays'], ['thermometers'], ['sack'], ['suction'], ['war'], ['forces'], ['implementation'], ['governor'], ['alcoholic'], ['back'], ['topside'], ['content'], ['evidence'], ['paper'], ['fiber'], ['drawers'], ['interest'], ['vine'], ['acres'], ['subtasks'], ['stack'], ['phases'], ['capacitor'], ['bangs'], ['oar'], ['winds'], ['implementation'], ['cost'], ['relay'], ['multiplication'], ['gleams'], ['schooling'], ['visions'], ['instruments'], ['duplicate'], ['ground'], ['chart'], ['staplers'], ['hoop'], ['maintainability'], ['grasses'], ['lieutenants'], ['tuition'], ['settlements'], ['introduction'], ['roof'], ['evacuations'], ['blows'], ['airports'], ['ratio'], ['sound'], ['majors'], ['leaf'], ['rug'], ['warehouses'], ['animal'], ['bell'], ['outing'], ['button'], ['experiences'], ['spiral'], ['clerks'], ['blaze'], ['discount'], ['slates'], ['rescues'], ['documentation'], ['groceries'], ['bigamies'], ['gravel'], ['oaks'], ['monolith'], ['thumbs'], ['utilization'], ['bill'], ['tunes'], ['slits'], ['courts'], ['touch'], ['antenna'], ['strain'], ['target'], ['multimeter'], ['side'], ['propellers'], ['hose'], ['affiant'], ['drivers'], ['readings'], ['vacuums'], ['electron'], ['visitor'], ['sizes'], ['seventies'], ['symptoms'], ['hygiene'], ['clubs'], ['foam'], ['blueprint'], ['thermocouple'], ['neglect'], ['demonstrations'], ['kiloliter'], ['halyard'], ['lung'], ['center'], ['dispatch'], ['attacker'], ['keyboard'], ['fifties'], ['mile'], ['possibilities'], ['vines'], ['veterans'], ['gardens'], ['folders'], ['milligram'], ['electricians'], ['hoist'], ['alert'], ['mount'], ['restraints'], ['supervisor'], ['ceilings'], ['twig'], ['bulkhead'], ['monolith'], ['americans'], ['signs'], ['tubs'], ['chairmen'], ['analyzer'], ['factor'], ['calculators'], ['affair'], ['garden'], ['vapor'], ['magnets'], ['checkouts'], ['challenges'], ['million'], ['yield'], ['pea'], ['blindfold'], ['downgrades'], ['priority'], ['pleads'], ['bottoms'], ['mug'], ['hump'], ['expert'], ['workload'], ['malfunctions'], ['qualifier'], ['losses'], ['adjustments'], ['quantity'], ['forties'], ['submission'], ['stub'], ['safeguards'], ['auxiliaries'], ['relays'], ['barometers'], ['qualities'], ['operand'], ['evacuations'], ['accessory'], ['snow'], ['boats'], ['transmittals'], ['voltages'], ['sprays'], ['broom'], ['coat'], ['manner'], ['guest'], ['expenditures'], ['february'], ['americans'], ['envelopes'], ['references'], ['entrapment'], ['cloudiness'], ['person'], ['teams'], ['correction'], ['transformers'], ['tuition'], ['public'], ['buffer'], ['topside'], ['term'], ['auditor'], ['firearms'], ['merchant'], ['lining'], ['appeals'], ['troubles'], ['assignments'], ['slash'], ['compliances'], ['mule'], ['handlers'], ['bulb'], ['puff'], ['group'], ['speaker'], ['mothers'], ['electricians'], ['nomenclatures'], ['medicine'], ['feeling'], ['similarity'], ['ores'], ['airfield'], ['hubs'], ['strobe'], ['invoice'], ['rainbow'], ['score'], ['art'], ['studies'], ['reservoir'], ['range'], ['fork'], ['attacker'], ['property'], ['ounces'], ['bailing'], ['nights'], ['mint'], ['sky'], ['capture'], ['alternation'], ['improvement'], ['arrest'], ['fishes'], ['rolls'], ['itinerary'], ['discrepancy'], ['striker'], ['stake'], ['merchant'], ['observers'], ['file'], ['dispatchers'], ['curves'], ['reluctance'], ['managers'], ['fall'], ['run'], ['subfunction'], ['monitors'], ['electrode'], ['bureaus'], ['manufacturer'], ['adhesives'], ['rubber'], ['capture'], ['release'], ['buzzes'], ['milliliters'], ['lanterns'], ['halls'], ['trouble'], ['hangars'], ['judge'], ['skew'], ['night'], ['tendencies'], ['pines'], ['eraser'], ['abrasive'], ['boost'], ['requests'], ['cabinets'], ['potato'], ['battle'], ['messengers'], ['adjectives'], ['setup'], ['yolk'], ['yard'], ['float'], ['toes'], ['defect'], ['choices'], ['radio'], ['pedal'], ['injector'], ['exchangers'], ['strikes'], ['equivalents'], ['channel'], ['video'], ['wear'], ['ears'], ['rinses'], ['credibility'], ['sonar'], ['typist'], ['swaps'], ['thimble'], ['oar'], ['platter'], ['freights'], ['hum'], ['interfaces'], ['aggravation'], ['photodiodes'], ['insignia'], ['floors'], ['sundays'], ['straws'], ['reaction'], ['knees'], ['methodology'], ['delight'], ['pipes'], ['bottle'], ['acquisitions'], ['splices'], ['buttons'], ['visits'], ['regulator'], ['lung'], ['laboratory'], ['salvage'], ['assignments'], ['refrigerator'], ['packages'], ['washtub'], ['tooth'], ['girls'], ['airship'], ['land'], ['strike'], ['economies'], ['descriptions'], ['twins'], ['mops'], ['tubs'], ['slaves'], ['allocation'], ['fields'], ['resistors'], ['failure'], ['incline'], ['deck'], ['pat'], ['clothes'], ['restaurant'], ['principles'], ['growths'], ['prisons'], ['speech'], ['controls'], ['defenses'], ['emergencies'], ['portions'], ['chattel'], ['periods'], ['warehouse'], ['oscillators'], ['impact'], ['fireballs'], ['poke'], ['motor'], ['tide'], ['majority'], ['compresses'], ['hoof'], ['approvals'], ['sink'], ['advance'], ['figures'], ['diodes'], ['overvoltage'], ['ocean'], ['plot'], ['warranties'], ['trouble'], ['ohm'], ['attackers'], ['roots'], ['sashes'], ['morale'], ['requirements'], ['beach'], ['relationship'], ['initiators'], ['make'], ['analyst'], ['owner'], ['secretary'], ['stencil'], ['blast'], ['automobile'], ['collars'], ['reluctance'], ['misalignment'], ['labors'], ['accounts'], ['chip'], ['democracies'], ['crewmember'], ['surges'], ['seals'], ['azimuths'], ['keel'], ['animal'], ['kettle'], ['ores'], ['baths'], ['wars'], ['increases'], ['nozzle'], ['bow'], ['tapers'], ['bristles'], ['nods'], ['home'], ['splints'], ['cents'], ['electrolytes'], ['bats'], ['bite'], ['seventies'], ['west'], ['camp'], ['states'], ['cabinet'], ['reader'], ['twirls'], ['odor'], ['dams'], ['millimeter'], ['rumble'], ['color'], ['coil'], ['records'], ['execution'], ['freezes'], ['difference'], ['force'], ['majors'], ['fish'], ['foam'], ['standardizations'], ['props'], ['button'], ['priorities'], ['raps'], ['buoys'], ['attempts'], ['wafer'], ['rugs'], ['expert'], ['weldings'], ['sponges'], ['arrangement'], ['kills'], ['circuitry'], ['deployments'], ['word'], ['propulsion'], ['tin'], ['gums'], ['pulses'], ['sterilizers'], ['editors'], ['mat'], ['vehicle'], ['blank'], ['semaphores'], ['realinements'], ['causes'], ['swaps'], ['collisions'], ['standing'], ['miles'], ['acceptor'], ['cockpit'], ['correlation'], ['persons'], ['threes'], ['molecules'], ['reservist'], ['procurement'], ['meals'], ['listings'], ['sponsor'], ['lamp'], ['washing'], ['background'], ['blinks'], ['kilometers'], ['amperages'], ['days'], ['bath'], ['allocations'], ['medium'], ['threes'], ['depositions'], ['cage'], ['pane'], ['wines'], ['chalk'], ['hulls'], ['oil'], ['cardboard'], ['temperatures'], ['entrances'], ['much'], ['clocks'], ['nothing'], ['carrier'], ['position'], ['mornings'], ['thermals'], ['transfer'], ['flap'], ['housefall'], ['registers'], ['programmers'], ['page'], ['dares'], ['aptitudes'], ['programmers'], ['fountain'], ['deliveries'], ['offenders'], ['characteristic'], ['movers'], ['conjectures'], ['base'], ['antennas'], ['mixtures'], ['altimeters'], ['experts'], ['nights'], ['touch'], ['value'], ['aggravation'], ['journey'], ['props'], ['rays'], ['sky'], ['semaphores'], ['coders'], ['carbons'], ['subtasks'], ['negligence'], ['forests'], ['apple'], ['woods'], ['stage'], ['confusion'], ['cockpits'], ['masts'], ['multimeter'], ['container'], ['seaman'], ['armors'], ['bushes'], ['stall'], ['troops'], ['invention'], ['associate'], ['ability'], ['link'], ['medicines'], ['bracing'], ['radian'], ['bridge'], ['efforts'], ['executive'], ['edge'], ['webs'], ['fall'], ['trigger'], ['makeup'], ['analog'], ['sharpener'], ['troubles'], ['owner'], ['cage'], ['gaskets'], ['fabrication'], ['warship'], ['instructions'], ['males'], ['eraser'], ['guilt'], ['moistures'], ['gas'], ['elevation'], ['patients'], ['sail'], ['lap'], ['relief'], ['boards'], ['occurrences'], ['release'], ['ages'], ['electrician'], ['round'], ['acids'], ['openings'], ['evening'], ['bubble'], ['allotments'], ['angles'], ['judgment'], ['spindle'], ['accomplishments'], ['attack'], ['canals'], ['crosses'], ['rest'], ['tissue'], ['broadcasts'], ['burglaries'], ['loaves'], ['anthems'], ['passbooks'], ['pocket'], ['representatives'], ['massed'], ['fellow'], ['board'], ['lasers'], ['spindles'], ['dozen'], ['submarined'], ['navies'], ['civilian'], ['bell'], ['nuts'], ['remainder'], ['victim'], ['mixture'], ['conjunctions'], ['pipe'], ['plugs'], ['fats'], ['seals'], ['lookout'], ['gangway'], ['others'], ['gyroscopes'], ['wine'], ['sewer'], ['overcurrents'], ['roll'], ['chimneys'], ['firearm'], ['indicate'], ['strains'], ['levers'], ['suspect'], ['aluminum'], ['theory'], ['tissues'], ['security'], ['guards'], ['indicators'], ['audits'], ['tip'], ['jewel'], ['operator'], ['trousers'], ['countries'], ['subroutine'], ['canyon'], ['brains'], ['ordnance'], ['apostrophes'], ['pats'], ['organs'], ['places'], ['cot'], ['purges'], ['thermals'], ['sabotage'], ['elapse'], ['equipment'], ['mercury'], ['sectors'], ['pace'], ['edge'], ['usages'], ['intents'], ['solvent'], ['cruise'], ['leather'], ['minds'], ['box'], ['tumble'], ['movers'], ['seasons'], ['twenties'], ['stares'], ['carriages'], ['designators'], ['float'], ['expert'], ['round'], ['junk'], ['hatchet'], ['locations'], ['wardroom'], ['automation'], ['hall'], ['rakes'], ['pins'], ['arrows'], ['quiet'], ['furnaces'], ['limes'], ['dish'], ['minuses'], ['bits'], ['bigamies'], ['credits'], ['tones'], ['mouths'], ['end'], ['architecture'], ['pilots'], ['rheostats'], ['oxide'], ['sales'], ['cleats'], ['west'], ['cloth'], ['percentages'], ['swings'], ['ray'], ['boats'], ['equation'], ['bureaus'], ['discriminations'], ['emergencies'], ['girl'], ['appropriation'], ['stories'], ['blaze'], ['siren'], ['mouths'], ['treatment'], ['investment'], ['mattress'], ['babies'], ['qualities'], ['foreground'], ['echo'], ['metrics'], ['tuesday'], ['sockets'], ['margins'], ['subjects'], ['branch'], ['linen'], ['readings'], ['holddown'], ['grinder'], ['litre'], ['minority'], ['operand'], ['seam'], ['splints'], ['homes'], ['quarters'], ['november'], ['conspiracies'], ['bushel'], ['broadcasts'], ['accumulation'], ['rotor'], ['taper'], ['walls'], ['standard'], ['counts'], ['woman'], ['disassembly'], ['tapes'], ['winches'], ['terrain'], ['spots'], ['cries'], ['friend'], ['toothpicks'], ['entry'], ['limps'], ['commendations'], ['assembly'], ['admiralties'], ['curtain'], ['lamps'], ['sevens'], ['knob'], ['cover'], ['professions'], ['leg'], ['routines'], ['fish'], ['shocks'], ['gland'], ['edge'], ['refrigerator'], ['ram'], ['clothes'], ['specialists'], ['entrance'], ['answer'], ['wholesale'], ['energizers'], ['standard'], ['qualities'], ['throttles'], ['visit'], ['disgust'], ['policies'], ['noon'], ['fountain'], ['altimeter'], ['runways'], ['bits'], ['offers'], ['evacuations'], ['possession'], ['releases'], ['carpets'], ['lime'], ['community'], ['win'], ['ring'], ['nose'], ['math'], ['graphs'], ['spare'], ['propeller'], ['attitudes'], ['setting'], ['transactions'], ['coordination'], ['funds'], ['speakers'], ['signalers'], ['raincoats'], ['window'], ['ornament'], ['seasons'], ['freedom'], ['darts'], ['glides'], ['surprise'], ['lashes'], ['education'], ['highways'], ['thursdays'], ['bracket'], ['protest'], ['chills'], ['children'], ['september'], ['orifice'], ['remainder'], ['quartermasters'], ['ream'], ['concept'], ['freezes'], ['shafts'], ['glide'], ['crewmembers'], ['hauls'], ['boot'], ['multitask'], ['cones'], ['bodies'], ['vicinities'], ['category'], ['blots'], ['runner'], ['recombinations'], ['deviation'], ['actions'], ['armors'], ['noise'], ['recipients'], ['tenths'], ['signalers'], ['couple'], ['seats'], ['recording'], ['mirror'], ['midwatches'], ['consoles'], ['accuracy'], ['factories'], ['gasolines'], ['slice'], ['human'], ['incline'], ['games'], ['adhesive'], ['skips'], ['mornings'], ['speeches'], ['mess'], ['computations'], ['clocks'], ['hits'], ['restriction'], ['payment'], ['gasket'], ['leaks'], ['logistics'], ['break'], ['governments'], ['investigators'], ['diagnosis'], ['sewer'], ['violations'], ['multisystem'], ['integers'], ['lent'], ['tolerance'], ['being'], ['badge'], ['necks'], ['morphine'], ['sneeze'], ['seal'], ['gland'], ['ventilations'], ['lift'], ['typist'], ['multimeters'], ['pistols'], ['influence'], ['multisystem'], ['navigators'], ['intelligence'], ['cough'], ['sessions'], ['halt'], ['ballast'], ['president'], ['bushes'], ['mill'], ['fantails'], ['deed'], ['meet'], ['smell'], ['gland'], ['crawl'], ['lump'], ['offices'], ['sanitation'], ['spots'], ['pyramid'], ['relocations'], ['tracks'], ['drugs'], ['name'], ['solder'], ['hulls'], ['shoe'], ['grams'], ['keel'], ['staple'], ['abuser'], ['computers'], ['seams'], ['kisses'], ['ornaments'], ['generation'], ['pint'], ['canvases'], ['reveille'], ['augmentation'], ['nozzles'], ['conditions'], ['formulas'], ['diameters'], ['magnitude'], ['extenuation'], ['crusts'], ['dart'], ['lash'], ['application'], ['gravel'], ['cabinets'], ['additives'], ['losses'], ['subroutines'], ['accounts'], ['beliefs'], ['custodians'], ['thermometers'], ['thirteen'], ['diagnostics'], ['collection'], ['saying'], ['detention'], ['abuse'], ['stators'], ['translators'], ['paragraphs'], ['checkpoints'], ['sum'], ['expiration'], ['grid'], ['gear'], ['parameter'], ['lookouts'], ['sediment'], ['abettors'], ['plow'], ['distances'], ['logs'], ['authorizations'], ['total'], ['fuse'], ['apportionment'], ['rope'], ['minutes'], ['leaks'], ['medal'], ['progress'], ['weeks'], ['blackboard'], ['taps'], ['stand'], ['concentrations'], ['finger'], ['corks'], ['corners'], ['importance'], ['analyses'], ['bottom'], ['transistors'], ['video'], ['blindfolds'], ['livers'], ['discrepancy'], ['restaurant'], ['violations'], ['jacket'], ['difference'], ['patter'], ['specialists'], ['sneezes'], ['balance'], ['recordkeeping'], ['counsel'], ['sediment'], ['baskets'], ['speeches'], ['primitives'], ['scratchpads'], ['extenuations'], ['pronoun'], ['rack'], ['mentions'], ['beginner'], ['parities'], ['fittings'], ['lints'], ['clouds'], ['releases'], ['sources'], ['meal'], ['grasses'], ['programs'], ['fetch'], ['model'], ['setups'], ['question'], ['analog'], ['prevention'], ['acquittal'], ['ranks'], ['nonavailabilities'], ['presidents'], ['galley'], ['picture'], ['facilitation'], ['firer'], ['senses'], ['seeds'], ['boot'], ['girl'], ['positions'], ['intensity'], ['music'], ['valleys'], ['shirt'], ['telephone'], ['bubble'], ['stern'], ['compartments'], ['defeats'], ['hello'], ['stands'], ['twins'], ['barrel'], ['cent'], ['butters'], ['midnight'], ['assistants'], ['mates'], ['transmittal'], ['efficiency'], ['scissors'], ['operand'], ['defect'], ['pack'], ['slap'], ['departures'], ['enlistment'], ['operators'], ['canals'], ['membranes'], ['steel'], ['defect'], ['make'], ['deals'], ['state'], ['swallow'], ['talker'], ['roots'], ['plate'], ['bundle'], ['wait'], ['track'], ['sister'], ['yarns'], ['resident'], ['document'], ['tears'], ['possibility'], ['armories'], ['families'], ['shotlines'], ['theories'], ['kits'], ['realinement'], ['destination'], ['abilities'], ['cabinet'], ['challenge'], ['bits'], ['falls'], ['precaution'], ['tie'], ['galley'], ['visitor'], ['crafts'], ['staffs'], ['percentages'], ['wingnut'], ['walls'], ['interviewer'], ['meeting'], ['sister'], ['dependence'], ['electrons'], ['lick'], ['receipts'], ['mountain'], ['policies'], ['operator'], ['poll'], ['yaw'], ['kites'], ['scissors'], ['cheese'], ['breezes'], ['drive'], ['crystal'], ['buzz'], ['ornament'], ['salute'], ['surges'], ['distance'], ['leapers'], ['cameras'], ['altimeters'], ['nouns'], ['discrimination'], ['compartments'], ['pages'], ['rugs'], ['research'], ['pack'], ['surpluses'], ['distress'], ['waists'], ['account'], ['blocks'], ['structure'], ['whistle'], ['sight'], ['hose'], ['lock'], ['sweeps'], ['summary'], ['check'], ['cloud'], ['thickness'], ['sip'], ['airport'], ['directories'], ['passivations'], ['tower'], ['mustard'], ['humps'], ['combatants'], ['amplifiers'], ['gunnery'], ['toolboxes'], ['apples'], ['rating'], ['spool'], ['leaks'], ['burn'], ['saturdays'], ['flow'], ['credit'], ['tags'], ['price'], ['injection'], ['drip'], ['lot'], ['lung'], ['spare'], ['mentions'], ['girls'], ['use'], ['forts'], ['complement'], ['cabs'], ['butt'], ['keyword'], ['trusts'], ['routine'], ['rehabilitation'], ['shift'], ['channel'], ['straws'], ['servos'], ['platters'], ['jackboxes'], ['obligations'], ['analysis'], ['custody'], ['platform'], ['threads'], ['yolks'], ['birth'], ['bottles'], ['arches'], ['backgrounds'], ['piece'], ['feet'], ['arguments'], ['turbine'], ['impedance'], ['fountains'], ['lent'], ['curtain'], ['milk'], ['halyard'], ['lifetime'], ['touches'], ['watch'], ['delegate'], ['surveyor'], ['surveys'], ['centimeter'], ['membrane'], ['stacks'], ['ranges'], ['agreements'], ['elapse'], ['skins'], ['ambiguity'], ['watch'], ['flood'], ['marches'], ['blur'], ['mill'], ['continuity'], ['tons'], ['reenlistments'], ['partner'], ['chemicals'], ['filters'], ['reservoir'], ['correspondence'], ['steamers'], ['claws'], ['runaway'], ['bears'], ['ship'], ['arrivals'], ['stators'], ['damping'], ['mirrors'], ['connections'], ['receptacles'], ['drafts'], ['expiration'], ['yaws'], ['glove'], ['nail'], ['diesel'], ['thursdays'], ['polls'], ['miss'], ['echelon'], ['furs'], ['misses'], ['shot'], ['diaphragms'], ['dots'], ['saturdays'], ['hydrometers'], ['beats'], ['industry'], ['reenlistment'], ['zero'], ['abettors'], ['comb'], ['visibility'], ['make'], ['horns'], ['judgment'], ['article'], ['comma'], ['title'], ['aid'], ['handfuls'], ['cures'], ['enemy'], ['increments'], ['diesel'], ['spools'], ['reactions'], ['minimums'], ['prism'], ['complement'], ['paper'], ['sole'], ['study'], ['quantities'], ['barrel'], ['coder'], ['tags'], ['sail'], ['jumps'], ['excuse'], ['haul'], ['facilitation'], ['tugs'], ['poison'], ['interviews'], ['arcs'], ['ampere'], ['address'], ['wax'], ['fuse'], ['clericals'], ['voice'], ['hushes'], ['kinds'], ['rack'], ['values'], ['inventory'], ['cans'], ['fibers'], ['stalls'], ['bone'], ['fog'], ['taxes'], ['catch'], ['officers'], ['passbook'], ['inspections'], ['rooms'], ['gaps'], ['fires'], ['hunt'], ['subfunction'], ['sidewalk'], ['priorities'], ['barrels'], ['peck'], ['lighters'], ['equator'], ['steamers'], ['captures'], ['goals'], ['sentence'], ['lumber'], ['aptitude'], ['gulfs'], ['coins'], ['horn'], ['container'], ['daytime'], ['beds'], ['pole'], ['airplanes'], ['lamps'], ['storm'], ['pane'], ['baskets'], ['straws'], ['feature'], ['smoke'], ['instructor'], ['fund'], ['nods'], ['pints'], ['screws'], ['cellar'], ['eliminators'], ['stools'], ['movements'], ['dimension'], ['fields'], ['bulkhead'], ['drydock'], ['hem'], ['breads'], ['decrements'], ['ramp'], ['figure'], ['swells'], ['appeals'], ['data'], ['grams'], ['partition'], ['bearing'], ['fans'], ['recovery'], ['beginner'], ['roll'], ['entrance'], ['fellow'], ['stones'], ['height'], ['alternatives'], ['purposes'], ['diagrams'], ['challenge'], ['pads'], ['ensign'], ['logic'], ['south'], ['offenses'], ['divider'], ['oars'], ['submarine'], ['straightener'], ['sirens'], ['cork'], ['beach'], ['commitment'], ['subfunction'], ['adverb'], ['collections'], ['admiralty'], ['families'], ['outlets'], ['probe'], ['indicate'], ['pail'], ['mind'], ['voltage'], ['oven'], ['floors'], ['click'], ['eases'], ['rumbles'], ['fall'], ['dissipation'], ['caliber'], ['carpets'], ['splices'], ['cheek'], ['press'], ['fiction'], ['problem'], ['vol.'], ['blackboards'], ['televisions'], ['trusts'], ['spikes'], ['issue'], ['ages'], ['teaspoons'], ['bronze'], ['modem'], ['mud'], ['leaf'], ['headers'], ['sod'], ['welds'], ['fires'], ['birth'], ['amounts'], ['servos'], ['diagram'], ['thunder'], ['overcurrent'], ['memory'], ['secretaries'], ['hertz'], ['portion'], ['bolt'], ['segment'], ['hatches'], ['margins'], ['missions'], ['waters'], ['terrain'], ['locomotive'], ['outlets'], ['rights'], ['need'], ['sockets'], ['headsets'], ['relays'], ['groceries'], ['deflector'], ['pint'], ['downgrade'], ['frames'], ['squadron'], ['engines'], ['spikes'], ['book'], ['taxis'], ['standardizations'], ['students'], ['spades'], ['women'], ['selector'], ['metals'], ['fluids'], ['plans'], ['hickory'], ['propose'], ['worry'], ['strand'], ['cardboard'], ['dereliction'], ['flesh'], ['pump'], ['chills'], ['alignments'], ['dictionary'], ['taxi'], ['corks'], ['flashes'], ['abrasive'], ['dozen'], ['decisions'], ['tracks'], ['exchange'], ['voices'], ['label'], ['tickets'], ['fruit'], ['adhesive'], ['verbs'], ['alcoholic'], ['alternation'], ['threshold'], ['engines'], ['howl'], ['group'], ['organizations'], ['smoke'], ['lanterns'], ['morals'], ['compasses'], ['roof'], ['pistols'], ['currents'], ['analyzers'], ['event'], ['aids'], ['tailors'], ['students'], ['implementation'], ['mondays'], ['disks'], ['lumps'], ['destruction'], ['jackbox'], ['decibel'], ['exterior'], ['slaps'], ['vice'], ['bulkhead'], ['title'], ['table'], ['space'], ['nut'], ['runoffs'], ['tube'], ['gate'], ['access'], ['carriers'], ['plugs'], ['thermocouples'], ['arcs'], ['wire'], ['wonder'], ['wools'], ['blaze'], ['soldier'], ['commendation'], ['passivations'], ['howl'], ['margin'], ['wagon'], ['truck'], ['trailers'], ['degree'], ['chairperson'], ['memorandums'], ['boat'], ['kills'], ['verses'], ['inclinations'], ['ships'], ['sewers'], ['thyristor'], ['manufacturer'], ['future'], ['wings'], ['clothes'], ['pulses'], ['educator'], ['courtesies'], ['sponsor'], ['fluids'], ['recommendation'], ['nomenclature'], ['throats'], ['principal'], ['pattern'], ['edge'], ['threes'], ['passes'], ['bauds'], ['verse'], ['crowns'], ['rowboats'], ['crimes'], ['decrease'], ['shafts'], ['hardships'], ['contribution'], ['perfect'], ['forests'], ['indicator'], ['crew'], ['warranties'], ['mother'], ['speed'], ['successes'], ['classroom'], ['additives'], ['authority'], ['throat'], ['airfield'], ['boatswains'], ['barrels'], ['nonavailability'], ['objective'], ['sex'], ['apparatuses'], ['hut'], ['typewriter'], ['books'], ['commands'], ['oranges'], ['wiggles'], ['rims'], ['gangways'], ['canyon'], ['displacements'], ['pail'], ['appellate'], ['canals'], ['teeth'], ['nameplate'], ['bill'], ['recruiter'], ['header'], ['null'], ['nomenclatures'], ['synthetics'], ['carts'], ['preserver'], ['suspects'], ['break'], ['reduction'], ['beacons'], ['winch'], ['discrimination'], ['uncertainties'], ['entrapments'], ['completions'], ['rheostat'], ['scratches'], ['investigator'], ['fuel'], ['fireballs'], ['ditches'], ['neutrons'], ['adhesive'], ['washes'], ['carbon'], ['stocks'], ['choice'], ['admirals'], ['weather'], ['interest'], ['bushings'], ['boost'], ['spars'], ['blade'], ['cure'], ['market'], ['acres'], ['judgment'], ['breads'], ['manpower'], ['rifle'], ['chamber'], ['commitments'], ['lids'], ['discrepancy'], ['fish'], ['process'], ['margins'], ['shifts'], ['screwdriver'], ['subtotal'], ['strain'], ['comforts'], ['coils'], ['keyword'], ['polishes'], ['lumber'], ['news'], ['survivals'], ['settings'], ['rake'], ['perforation'], ['stare'], ['clap'], ['drink'], ['brackets'], ['winch'], ['names'], ['splint'], ['huts'], ['broom'], ['chokes'], ['boy'], ['buzzer'], ['arrival'], ['lung'], ['windings'], ['reliability'], ['curve'], ['yolk'], ['chests'], ['stop'], ['fruit'], ['reliability'], ['hills'], ['molecule'], ['semiconductors'], ['nerves'], ['tables'], ['jack'], ['transportation'], ['scene'], ['sponsor'], ['mind'], ['grain'], ['soils'], ['atmospheres'], ['lump'], ['laws'], ['methodology'], ['sponges'], ['action'], ['fight'], ['retention'], ['cliffs'], ['seesaws'], ['crewmembers'], ['leaps'], ['pleads'], ['trailer'], ['farads'], ['symbol'], ['analysis'], ['stares'], ['spears'], ['crops'], ['auditors'], ['researchers'], ['multimeters'], ['attribute'], ['laundry'], ['dam'], ['mess'], ['furs'], ['ships'], ['sharpeners'], ['passes'], ['absence'], ['wood'], ['group'], ['variables'], ['variation'], ['sentence'], ['milligrams'], ['egg'], ['cabinets'], ['settlements'], ['stoves'], ['vicinity'], ['emitters'], ['objects'], ['investigator'], ['roadside'], ['sheet'], ['dockings'], ['appeals'], ['projectiles'], ['tray'], ['televisions'], ['excess'], ['tissue'], ['pot'], ['keyboards'], ['rifles'], ['majority'], ['pier'], ['representative'], ['tuition'], ['brain'], ['sponsor'], ['picture'], ['opportunity'], ['guesses'], ['leaves'], ['logic'], ['harpoons'], ['facepiece'], ['districts'], ['flags'], ['factors'], ['suggestion'], ['runouts'], ['liberty'], ['propeller'], ['guilt'], ['telecommunications'], ['medicines'], ['trials'], ['wagons'], ['breeze'], ['job'], ['fantails'], ['braids'], ['flashlights'], ['rain'], ['examples'], ['suggestions'], ['task'], ['cures'], ['presumptions'], ['sets'], ['disassemblies'], ['daughter'], ['temperature'], ['mud'], ['thin'], ['field'], ['complaints'], ['surpluses'], ['slates'], ['distortion'], ['hardcopies'], ['okays'], ['impulses'], ['splitters'], ['digestion'], ['moon'], ['null'], ['keys'], ['alternation'], ['accounting'], ['departures'], ['detachment'], ['theories'], ['elements'], ['receipt'], ['pull'], ['coin'], ['files'], ['sockets'], ['investigator'], ['shock'], ['paste'], ['hyphens'], ['objects'], ['cartridge'], ['currencies'], ['cement'], ['mathematics'], ['educators'], ['freshwater'], ['topside'], ['recombinations'], ['policies'], ['hospital'], ['racks'], ['parachute'], ['shades'], ['limbs'], ['drops'], ['compliances'], ['cockpits'], ['tuesdays'], ['compromise'], ['spade'], ['algorithms'], ['violet'], ['root'], ['sport'], ['map'], ['tasks'], ['confusion'], ['rehabilitation'], ['grips'], ['alphabet'], ['authorizations'], ['conflict'], ['humps'], ['computation'], ['rigging'], ['opportunity'], ['beat'], ['reviews'], ['tips'], ['struts'], ['detentions'], ['ingredient'], ['hashmarks'], ['eddies'], ['debit'], ['user'], ['gas'], ['blow'], ['belt'], ['girls'], ['flood'], ['sky'], ['hint'], ['breads'], ['touches'], ['ignitions'], ['disability'], ['cloudiness'], ['block'], ['yells'], ['number'], ['davits'], ['devices'], ['uniform'], ['alerts'], ['modification'], ['sunday'], ['vicinity'], ['sets'], ['battleships'], ['ideals'], ['collection'], ['trackers'], ['ink'], ['telecommunication'], ['drug'], ['account'], ['brace'], ['discrepancy'], ['ribs'], ['accidents'], ['pascal'], ['beacons'], ['break'], ['shields'], ['sunshine'], ['authorization'], ['solution'], ['knot'], ['drivers'], ['execution'], ['propulsion'], ['kiloliters'], ['yields'], ['powders'], ['goods'], ['workload'], ['watchstanding'], ['increments'], ['deflector'], ['controls'], ['mists'], ['signaler'], ['implantation'], ['moments'], ['superintendent'], ['uncertainty'], ['integer'], ['drains'], ['interrelation'], ['ranks'], ['ore'], ['chatter'], ['exhausts'], ['limitations'], ['cuff'], ['usage'], ['wrist'], ['configurations'], ['stamps'], ['boatswains'], ['purposes'], ['brains'], ['payroll'], ['forecasts'], ['suction'], ['desertions'], ['explosions'], ['child'], ['frame'], ['portions'], ['mailbox'], ['linen'], ['spoke'], ['capture'], ['milligrams'], ['operabilities'], ['lumps'], ['rail'], ['battles'], ['surprises'], ['rescuer'], ['bunch'], ['ventilation'], ['arrow'], ['holddowns'], ['towel'], ['preference'], ['stake'], ['reverse'], ['parcels'], ['distances'], ['scope'], ['direction'], ['opportunity'], ['compass'], ['consolidation'], ['subsystems'], ['nerves'], ['bang'], ['spare'], ['scales'], ['values'], ['ensigns'], ['armaments'], ['diesels'], ['graph'], ['facepiece'], ['configurations'], ['technician'], ['listing'], ['nozzle'], ['chit'], ['racks'], ['dividers'], ['story'], ['deviations'], ['dresses'], ['silks'], ['compressions'], ['dent'], ['contracts'], ['sports'], ['belts'], ['thanks'], ['deserts'], ['railways'], ['rhythm'], ['stationery'], ['wayside'], ['transiting'], ['pipe'], ['tendency'], ['ounce'], ['weights'], ['forest'], ['seaman'], ['webs'], ['twenties'], ['terminology'], ['appraisals'], ['mixtures'], ['minds'], ['disciplines'], ['wind'], ['arrivals'], ['detent'], ['portions'], ['doorstep'], ['stapler'], ['diver'], ['actions'], ['brace'], ['growth'], ['programs'], ['search'], ['compromises'], ['thermocouple'], ['indications'], ['workings'], ['inaction'], ['order'], ['management'], ['yolk'], ['headings'], ['complaint'], ['toothpicks'], ['basket'], ['slash'], ['lenses'], ['tomorrow'], ['translators'], ['varactor'], ['competitions'], ['glossary'], ['blink'], ['quart'], ['gyroscopes'], ['alibi'], ['shields'], ['integers'], ['braids'], ['standard'], ['waists'], ['length'], ['breakdown'], ['curvatures'], ['specialist'], ['jets'], ['jams'], ['cleansers'], ['multitask'], ['dents'], ['diameters'], ['harpoons'], ['stem'], ['pedal'], ['wraps'], ['liver'], ['oscillators'], ['artillery'], ['boxcar'], ['positions'], ['clip'], ['investigator'], ['turbines'], ['voice'], ['butters'], ['strand'], ['defects'], ['terminations'], ['sides'], ['mitt'], ['buttons'], ['rug'], ['brush'], ['response'], ['picks'], ['fracture'], ['ditches'], ['custom'], ['eases'], ['bolt'], ['post'], ['suction'], ['pecks'], ['engineering'], ['attacker'], ['heaters'], ['screen'], ['responsibility'], ['commendation'], ['leaders'], ['woman'], ['containers'], ['conversion'], ['sixths'], ['fats'], ['steam'], ['axes'], ['approvals'], ['unit'], ['committee'], ['saturday'], ['folders'], ['rumble'], ['fleets'], ['regions'], ['lines'], ['electricity'], ['guidance'], ['trips'], ['banks'], ['rod'], ['stands'], ['effect'], ['slate'], ['worm'], ['tuesday'], ['fan'], ['age'], ['gasoline'], ['braces'], ['tenders'], ['brains'], ['washtubs'], ['bushing'], ['tablets'], ['transistor'], ['explanation'], ['chest'], ['counselor'], ['inlets'], ['conflict'], ['future'], ['travels'], ['schoolhouses'], ['ribbon'], ['floods'], ['rifle'], ['pastes'], ['automation'], ['classroom'], ['boresight'], ['processors'], ['cells'], ['minute'], ['mass'], ['fishes'], ['watches'], ['nuts'], ['operands'], ['ammonia'], ['hats'], ['validation'], ['factory'], ['dives'], ['completion'], ['tachometers'], ['braids'], ['feet'], ['stings'], ['dock'], ['profile'], ['jackets'], ['admission'], ['figure'], ['patrol'], ['riding'], ['state'], ['races'], ['behaviors'], ['margins'], ['rescues'], ['vendors'], ['submarine'], ['offers'], ['diamond'], ['heaps'], ['confidences'], ['present'], ['workings'], ['warship'], ['futures'], ['guard'], ['witnesses'], ['foreground'], ['honk'], ['command'], ['leaps'], ['breach'], ['privilege'], ['anthem'], ['occasions'], ['wholesales'], ['prices'], ['carburetors'], ['twos'], ['interiors'], ['spiral'], ['transmitter'], ['pedal'], ['schools'], ['tire'], ['requisition'], ['standards'], ['desert'], ['efficiency'], ['adaption'], ['friends'], ['couple'], ['object'], ['flicker'], ['detentions'], ['shield'], ['sea'], ['fractions'], ['stacks'], ['nod'], ['billets'], ['thursday'], ['sleep'], ['fumes'], ['evening'], ['airs'], ['discussions'], ['membranes'], ['forecasts'], ['cramps'], ['vessels'], ['architecture'], ['plugs'], ['housing'], ['journal'], ['transmitter'], ['depletion'], ['manual'], ['question'], ['beam'], ['weight'], ['basics'], ['fighter'], ['mover'], ['seas'], ['post'], ['exchanger'], ['moonlight'], ['persons'], ['pockets'], ['quarters'], ['latitude'], ['routes'], ['counsel'], ['compasses'], ['receptacle'], ['proficiency'], ['berries'], ['congress'], ['airs'], ['stoppers'], ['occasions'], ['variations'], ['settings'], ['guests'], ['orifice'], ['wastes'], ['conn'], ['paws'], ['caution'], ['hate'], ['tendency'], ['escape'], ['here'], ['injection'], ['strands'], ['basket'], ['recess'], ['medal'], ['abbreviations'], ['brakes'], ['abuse'], ['condensers'], ['memories'], ['medicines'], ['professionalism'], ['developments'], ['fallout'], ['lighters'], ['resistor'], ['pushdowns'], ['forecastles'], ['symbols'], ['evacuation'], ['privates'], ['navies'], ['airfield'], ['corks'], ['accruals'], ['couples'], ['maneuvers'], ['discussions'], ['hundreds'], ['swing'], ['currencies'], ['societies'], ['henrys'], ['concern'], ['copper'], ['swing'], ['tourniquets'], ['irons'], ['chains'], ['fault'], ['crime'], ['emergencies'], ['preposition'], ['encounters'], ['end'], ['sashes'], ['flood'], ['ensign'], ['population'], ['residue'], ['appeals'], ['reductions'], ['liters'], ['alarms'], ['barrel'], ['controls'], ['housefall'], ['color'], ['twenties'], ['longitude'], ['dispatch'], ['flashlight'], ['lump'], ['gleams'], ['sailor'], ['windows'], ['talker'], ['sorts'], ['records'], ['leaps'], ['dedications'], ['percentages'], ['weaves'], ['addressee'], ['union'], ['patrols'], ['terminator'], ['gravel'], ['intelligences'], ['minuses'], ['sport'], ['hydrometers'], ['seats'], ['tune'], ['school'], ['firer'], ['milliliters'], ['implements'], ['eleven'], ['dedication'], ['dust'], ['sacks'], ['jugs'], ['whirls'], ['amplifiers'], ['library'], ['sectors'], ['transmittals'], ['interview'], ['feeder'], ['alternatives'], ['coordinations'], ['puncture'], ['standards'], ['dawns'], ['detention'], ['offices'], ['tenth'], ['margin'], ['ramp'], ['bills'], ['armories'], ['silicon'], ['panel'], ['schedule'], ['positions'], ['leaper'], ['advertisement'], ['detection'], ['repairs'], ['directory'], ['chief'], ['signalers'], ['berths'], ['vines'], ['compass'], ['start'], ['ray'], ['noon'], ['tons'], ['injuries'], ['disease'], ['club'], ['petroleum'], ['amperages'], ['swimmers'], ['senses'], ['microphones'], ['accesses'], ['detention'], ['tours'], ['harpoon'], ['passenger'], ['priority'], ['sprayers'], ['intensity'], ['characteristic'], ['attesting'], ['commitments'], ['mines'], ['livers'], ['wholesales'], ['pails'], ['log'], ['window'], ['weddings'], ['grain'], ['intelligence'], ['shelves'], ['navigations'], ['rattles'], ['ability'], ['tubs'], ['play'], ['warnings'], ['iron'], ['shifts'], ['bushel'], ['nails'], ['pipe'], ['others'], ['runaway'], ['tendencies'], ['hierarchy'], ['scratchpad'], ['races'], ['legislation'], ['hiss'], ['passbooks'], ['rules'], ['winters'], ['eraser'], ['mint'], ['athwartship'], ['pencil'], ['pond'], ['positions'], ['howl'], ['cheaters'], ['gate'], ['marbles'], ['goals'], ['linkage'], ['analogs'], ['trim'], ['membrane'], ['buzzer'], ['dealers'], ['sled'], ['chin'], ['contract'], ['expiration'], ['theories'], ['arm'], ['glands'], ['workings'], ['extras'], ['administrator'], ['varactors'], ['stators'], ['pokes'], ['pints'], ['engineering'], ['items'], ['overcurrent'], ['portion'], ['human'], ['stub'], ['attachment'], ['editors'], ['servant'], ['east'], ['countries'], ['visitors'], ['custom'], ['secretaries'], ['integer'], ['holddown'], ['hierarchies'], ['opinions'], ['armaments'], ['rumbles'], ['front'], ['margins'], ['pushes'], ['chemistry'], ['cents'], ['wounds'], ['hardcopies'], ['drive'], ['prompts'], ['wake'], ['hour'], ['radars'], ['disciplines'], ['liquor'], ['chests'], ['pedal'], ['augmentation'], ['ax'], ['computation'], ['lee'], ['actions'], ['harmonies'], ['hoses'], ['ceiling'], ['abrasives'], ['armory'], ['trigger'], ['azimuths'], ['buzz'], ['tailors'], ['equation'], ['scratchpads'], ['workman'], ['colds'], ['rugs'], ['boils'], ['alphabet'], ['reductions'], ['blanket'], ['coordinates'], ['cliff'], ['chattels'], ['threes'], ['visits'], ['curvatures'], ['differences'], ['contributions'], ['shores'], ['place'], ['code'], ['currency'], ['secretaries'], ['preserver'], ['socket'], ['entrance'], ['supply'], ['coordinations'], ['boats'], ['licenses'], ['paygrades'], ['splint'], ['bells'], ['coil'], ['trunk'], ['spans'], ['article'], ['ratings'], ['fellows'], ['conference'], ['listings'], ['levers'], ['stretch'], ['jumps'], ['refrigerators'], ['resource'], ['systems'], ['ordnance'], ['honors'], ['failure'], ['reluctance'], ['computation'], ['bunks'], ['thicknesses'], ['north'], ['lashes'], ['intent'], ['mondays'], ['sources'], ['lifeboats'], ['alternative'], ['additive'], ['absence'], ['boy'], ['floats'], ['displays'], ['wound'], ['blow'], ['decrement'], ['curvatures'], ['sidewalks'], ['sheets'], ['battle'], ['index'], ['footings'], ['boil'], ['authorities'], ['event'], ['verb'], ['modem'], ['jugs'], ['diameter'], ['wage'], ['configuration'], ['socks'], ['skies'], ['branch'], ['typists'], ['films'], ['jaws'], ['delegate'], ['warehouses'], ['curvatures'], ['traces'], ['families'], ['moments'], ['nameplate'], ['cork'], ['incomes'], ['offenses'], ['receipts'], ['mouth'], ['arm'], ['waterlines'], ['marines'], ['governments'], ['ornament'], ['arrangement'], ['pats'], ['summaries'], ['ice'], ['editor'], ['forehead'], ['camp'], ['fruit'], ['coasts'], ['matter'], ['words'], ['parks'], ['addition'], ['friend'], ['gate'], ['vendor'], ['eyes'], ['firers'], ['legends'], ['stomachs'], ['wall'], ['crystals'], ['establishment'], ['sleep'], ['diagnosis'], ['repair'], ['tilling'], ['tactics'], ['clangs'], ['nylons'], ['interior'], ['ax'], ['floods'], ['accuracy'], ['approvals'], ['thread'], ['economy'], ['managers'], ['evening'], ['noises'], ['greenwich'], ['rose'], ['radiator'], ['detents'], ['areas'], ['whispers'], ['swamps'], ['delegate'], ['progress'], ['schooling'], ['vices'], ['prisons'], ['tactic'], ['trailers'], ['mats'], ['mint'], ['launch'], ['customers'], ['alcoholics'], ['passbooks'], ['lapses'], ['decreases'], ['setting'], ['giants'], ['washtub'], ['twos'], ['objective'], ['teller'], ['airfield'], ['defense'], ['topping'], ['sixths'], ['paints'], ['orders'], ['elbows'], ['bush'], ['photographs'], ['logs'], ['prerequisite'], ['whispers'], ['donors'], ['fireballs'], ['changes'], ['echo'], ['requests'], ['acceptance'], ['hem'], ['decibels'], ['contamination'], ['bushes'], ['fights'], ['expenditures'], ['overvoltage'], ['flashlights'], ['stencil'], ['windlasses'], ['patter'], ['january'], ['sunshine'], ['pen'], ['signalmen'], ['salutes'], ['bail'], ['files'], ['thin'], ['keyboard'], ['flesh'], ['firearms'], ['interface'], ['limitation'], ['throats'], ['sprayers'], ['amplifiers'], ['smokes'], ['winter'], ['sprayer'], ['soils'], ['dioxide'], ['pay'], ['implantations'], ['ventilations'], ['null'], ['assignment'], ['altitudes'], ['pans'], ['realignment'], ['comments'], ['initiator'], ['animals'], ['apprenticeships'], ['sips'], ['operabilities'], ['submarines'], ['mistrials'], ['radiuses'], ['seams'], ['stone'], ['presence'], ['realinement'], ['seed'], ['riding'], ['decisions'], ['runouts'], ['anchors'], ['threads'], ['mothers'], ['distortion'], ['hopes'], ['pilot'], ['checkpoint'], ['drills'], ['console'], ['enclosures'], ['thoughts'], ['profit'], ['tune'], ['beds'], ['sled'], ['keywords'], ['porters'], ['bushings'], ['show'], ['firearm'], ['silence'], ['messages'], ['storage'], ['galleys'], ['calculator'], ['laboratories'], ['splash'], ['forts'], ['originators'], ['substitutes'], ['worm'], ['tanks'], ['conjectures'], ['honors'], ['beliefs'], ['sonar'], ['bombs'], ['break'], ['chapters'], ['menu'], ['descriptions'], ['cages'], ['apparatuses'], ['sight'], ['sea'], ['clothes'], ['restriction'], ['stocks'], ['caps'], ['bolt'], ['tune'], ['scale'], ['regulations'], ['blasts'], ['regulations'], ['floors'], ['coin'], ['highways'], ['mounts'], ['bend'], ['schoolroom'], ['lesson'], ['axes'], ['manifests'], ['corks'], ['conveniences'], ['triangles'], ['credibility'], ['honks'], ['vessel'], ['horn'], ['roads'], ['launcher'], ['dangers'], ['activities'], ['version'], ['seeds'], ['noon'], ['nomenclature'], ['wages'], ['dollars'], ['compromises'], ['partners'], ['friends'], ['shirts'], ['pistols'], ['sips'], ['linkage'], ['break'], ['pick'], ['discharges'], ['peg'], ['tuesdays'], ['departures'], ['fruit'], ['circuits'], ['blow'], ['saps'], ['jig'], ['language'], ['halt'], ['privilege'], ['milestones'], ['fear'], ['electricians'], ['pushdown'], ['beam'], ['menu'], ['drillers'], ['sleds'], ['bushing'], ['connections'], ['suit'], ['runaway'], ['thermometer'], ['prerequisite'], ['knife'], ['excuse'], ['compartment'], ['visitors'], ['kills'], ['electronics'], ['implantations'], ['motors'], ['vomit'], ['custody'], ['cruise'], ['liver'], ['job'], ['majorities'], ['house'], ['master'], ['abuse'], ['delay'], ['vicinities'], ['works'], ['highways'], ['weather'], ['dedications'], ['equivalent'], ['receptacles'], ['edge'], ['seesaws'], ['facepieces'], ['coast'], ['stomach'], ['fog'], ['counselors'], ['captain'], ['liver'], ['completions'], ['opinion'], ['salts'], ['shelves'], ['yarns'], ['boost'], ['booms'], ['caves'], ['crusts'], ['bulkhead'], ['typist'], ['bag'], ['nod'], ['threes'], ['conducts'], ['instances'], ['collector'], ['rheostats'], ['rock'], ['contracts'], ['draft'], ['highlines'], ['neutron'], ['evenings'], ['strut'], ['professions'], ['friends'], ['medicines'], ['trunks'], ['executive'], ['wishes'], ['night'], ['force'], ['expiration'], ['elbows'], ['comments'], ['districts'], ['watches'], ['stator'], ['movers'], ['property'], ['victim'], ['compression'], ['marines'], ['stake'], ['pen'], ['highway'], ['pulses'], ['catcher'], ['bone'], ['mist'], ['exhibit'], ['smells'], ['gases'], ['goggles'], ['chases'], ['battery'], ['port'], ['platform'], ['contract'], ['laboratories'], ['games'], ['balls'], ['joint'], ['bite'], ['diagnosis'], ['guard'], ['towels'], ['shed'], ['keel'], ['visibility'], ['slashes'], ['milestone'], ['updates'], ['water'], ['sewer'], ['songs'], ['yarn'], ['felt'], ['hatches'], ['alignments'], ['travels'], ['transmittal'], ['dams'], ['illustrations'], ['designators'], ['sneezes'], ['radians'], ['credit'], ['humor'], ['pops'], ['exchanges'], ['crash'], ['canvas'], ['proofs'], ['strips'], ['stresses'], ['references'], ['tomorrow'], ['regret'], ['systems'], ['videos'], ['limp'], ['pastes'], ['kite'], ['throttles'], ['medium'], ['gate'], ['map'], ['sixths'], ['brass'], ['states'], ['antenna'], ['shadow'], ['bond'], ['absences'], ['combs'], ['refunds'], ['alley'], ['boatswain'], ['crank'], ['cases'], ['jelly'], ['humor'], ['depth'], ['chambers'], ['canister'], ['glides'], ['explanation'], ['muscles'], ['lots'], ['workmen'], ['strips'], ['trainers'], ['learning'], ['passbooks'], ['dissemination'], ['order'], ['attractions'], ['tars'], ['dyes'], ['requisition'], ['acts'], ['president'], ['admissions'], ['parachute'], ['burns'], ['dictionaries'], ['channels'], ['rigs'], ['washer'], ['being'], ['kiloliter'], ['insignias'], ['harness'], ['professionals'], ['methodology'], ['stomach'], ['paints'], ['signs'], ['maneuvers'], ['freshwater'], ['stakes'], ['history'], ['preference'], ['subprogram'], ['mark'], ['need'], ['maximum'], ['night'], ['insertions'], ['aids'], ['dollies'], ['schedule'], ['heater'], ['neutrons'], ['photodiode'], ['bell'], ['exteriors'], ['sentence'], ['delimiters'], ['escorts'], ['tries'], ['deployments'], ['clothes'], ['ideal'], ['soldiers'], ['spades'], ['eleven'], ['runs'], ['decisions'], ['voices'], ['shields'], ['bandages'], ['sewers'], ['fellows'], ['plate'], ['debit'], ['cushions'], ['cart'], ['stages'], ['attacker'], ['components'], ['conferences'], ['tab'], ['blueprint'], ['briefings'], ['regrets'], ['dissipation'], ['wins'], ['multiplications'], ['layer'], ['contrasts'], ['confusion'], ['link'], ['shouts'], ['battery'], ['meal'], ['restraint'], ['sterilizers'], ['dip'], ['threat'], ['gages'], ['taxi'], ['reserves'], ['prefixes'], ['terrain'], ['introductions'], ['confinements'], ['book'], ['passage'], ['conflict'], ['definition'], ['bench'], ['exposure'], ['freight'], ['index'], ['junk'], ['environments'], ['preservation'], ['means'], ['syntax'], ['contribution'], ['compounds'], ['oven'], ['advantages'], ['challenge'], ['definitions'], ['milestone'], ['pleads'], ['fence'], ['map'], ['personality'], ['unions'], ['basics'], ['makes'], ['chatter'], ['shades'], ['throats'], ['sirens'], ['hazards'], ['fathers'], ['lubrication'], ['cent'], ['million'], ['marches'], ['environment'], ['component'], ['recruiters'], ['indications'], ['puffs'], ['acquittals'], ['transformer'], ['troops'], ['educators'], ['bore'], ['receptacles'], ['replacements'], ['medicines'], ['projectile'], ['chemical'], ['oils'], ['images'], ['schools'], ['intelligences'], ['apprehensions'], ['noises'], ['amusements'], ['propellers'], ['crime'], ['bets'], ['helmsmen'], ['maneuver'], ['headset'], ['threader'], ['buy'], ['side'], ['prepositions'], ['action'], ['thyristors'], ['junk'], ['button'], ['paneling'], ['apostrophe'], ['heater'], ['extent'], ['rice'], ['bytes'], ['cloud'], ['patter'], ['spoke'], ['proficiency'], ['subprogram'], ['welds'], ['bodies'], ['patch'], ['men'], ['bigamy'], ['refrigerator'], ['multitasks'], ['utility'], ['entries'], ['collisions'], ['condensations'], ['failures'], ['crowns'], ['digit'], ['sequences'], ['variables'], ['dent'], ['appellate'], ['linen'], ['manifest'], ['fours'], ['morphine'], ['upside'], ['fireball'], ['practice'], ['state'], ['attackers'], ['humans'], ['preserver'], ['plant'], ['dye'], ['secrets'], ['airfield'], ['stencils'], ['target'], ['outing'], ['mechanics'], ['dominions'], ['registers'], ['mission'], ['harbors'], ['electrolyte'], ['experts'], ['installations'], ['diagram'], ['background'], ['moment'], ['listing'], ['bushing'], ['hierarchies'], ['flanges'], ['travel'], ['enlistments'], ['notes'], ['appellate'], ['closures'], ['decorations'], ['operand'], ['packages'], ['cloud'], ['cliff'], ['rescuers'], ['fighter'], ['subtotal'], ['cheeses'], ['doses'], ['jumpers'], ['proficiencies'], ['recess'], ['thresholds'], ['construction'], ['equator'], ['educator'], ['thins'], ['umbrella'], ['thumb'], ['cans'], ['police'], ['folds'], ['dollar'], ['suit'], ['chain'], ['sisters'], ['claim'], ['alcoholism'], ['workbook'], ['canyon'], ['takeoff'], ['defects'], ['evacuations'], ['sinks'], ['vicinity'], ['diagnosis'], ['steel'], ['half'], ['retrieval'], ['representative'], ['compartments'], ['builder'], ['licks'], ['swivels'], ['abrasion'], ['transfers'], ['mates'], ['velocity'], ['housefall'], ['systems'], ['gases'], ['rocket'], ['hip'], ['adviser'], ['result'], ['pain'], ['moonlight'], ['churn'], ['malfunction'], ['insanities'], ['miners'], ['controls'], ['helms'], ['rejections'], ['bucket'], ['moistures'], ['attackers'], ['aims'], ['west'], ['tax'], ['navigation'], ['addressees'], ['pistols'], ['grass'], ['pilots'], ['reservist'], ['saps'], ['hardcopy'], ['accountabilities'], ['exhibits'], ['responsibility'], ['projectiles'], ['sundays'], ['chemical'], ['wood'], ['aggravations'], ['cable'], ['compressions'], ['beads'], ['orifices'], ['lubrication'], ['team'], ['exhausts'], ['driver'], ['wrap'], ['radar'], ['courses'], ['appropriations'], ['authorities'], ['oscillations'], ['noses'], ['integrity'], ['evacuation'], ['locker'], ['anthem'], ['knot'], ['turns'], ['pat'], ['stares'], ['diary'], ['sprayers'], ['motors'], ['taps'], ['fear'], ['armaments'], ['paragraphs'], ['sink'], ['spoon'], ['twenties'], ['candles'], ['dials'], ['meetings'], ['publications'], ['debt'], ['representative'], ['detail'], ['dives'], ['assault'], ['dials'], ['backup'], ['harbors'], ['jugs'], ['manifests'], ['hits'], ['braid'], ['dangers'], ['reward'], ['paragraph'], ['indexes'], ['cashier'], ['losses'], ['creeks'], ['requisition'], ['slice'], ['electricians'], ['location'], ['duration'], ['quartermasters'], ['odds'], ['beds'], ['recruit'], ['types'], ['powders'], ['travels'], ['lane'], ['calls'], ['wholesales'], ['towels'], ['stoppers'], ['generators'], ['doses'], ['spoons'], ['names'], ['shirts'], ['gallons'], ['resolution'], ['cloths'], ['surfaces'], ['crews'], ['burglary'], ['enclosure'], ['hinge'], ['applicants'], ['jack'], ['cuff'], ['berry'], ['trails'], ['waterline'], ['strengths'], ['trailers'], ['dabs'], ['system'], ['parenthesis'], ['flashes'], ['agent'], ['lead'], ['blurs'], ['cakes'], ['stability'], ['dots'], ['prerequisite'], ['tones'], ['forecast'], ['participation'], ['ceramics'], ['fields'], ['unit'], ['friction'], ['deposition'], ['mechanisms'], ['cotton'], ['fumes'], ['silver'], ['letterheads'], ['hardcopy'], ['ceilings'], ['fracture'], ['courtesies'], ['multisystem'], ['interests'], ['deserter'], ['mercury'], ['grams'], ['facilities'], ['diagnosis'], ['defects'], ['liters'], ['bang'], ['substitute'], ['filter'], ['zips'], ['envelopes'], ['minimums'], ['operations'], ['apparatus'], ['submarining'], ['cable'], ['subroutines'], ['plastic'], ['cranks'], ['fishes'], ['diary'], ['splicers'], ['helmsmen'], ['commissions'], ['cosals'], ['snaps'], ['paygrades'], ['rate'], ['money'], ['engineering'], ['bristle'], ['bank'], ['inventions'], ['harmony'], ['exchanges'], ['ships'], ['harm'], ['feedback'], ['supermarkets'], ['roadside'], ['face'], ['closures'], ['sentries'], ['depletions'], ['mule'], ['performances'], ['funding'], ['majorities'], ['corner'], ['books'], ['sales'], ['tub'], ['modem'], ['spar'], ['beliefs'], ['chambers'], ['purposes'], ['neck'], ['shaft'], ['knots'], ['tide'], ['humans'], ['shelf'], ['boosts'], ['intensities'], ['calibration'], ['quiets'], ['checkers'], ['sales'], ['tag'], ['explosion'], ['chief'], ['cruises'], ['originators'], ['gold'], ['hammer'], ['troubles'], ['couplings'], ['percentage'], ['trusts'], ['rotor'], ['hashmark'], ['surrender'], ['architecture'], ['reluctance'], ['cap'], ['nods'], ['pail'], ['stomachs'], ['leaper'], ['generation'], ['fatigue'], ['electron'], ['values'], ['wrists'], ['coxswains'], ['custody'], ['subsystems'], ['thin'], ['break'], ['hatches'], ['mule'], ['shipmate'], ['splashes'], ['fears'], ['piston'], ['bucket'], ['teaspoon'], ['techniques'], ['deed'], ['metal'], ['date'], ['vices'], ['aluminums'], ['mats'], ['budgets'], ['core'], ['spot'], ['keel'], ['thoughts'], ['feet'], ['copies'], ['refunds'], ['correlation'], ['sentences'], ['stitch'], ['torpedoes'], ['sister'], ['interviewer'], ['mattress'], ['tour'], ['compresses'], ['dispatcher'], ['auto'], ['walks'], ['nineties'], ['fluids'], ['sponges'], ['menus'], ['drive'], ['umbrella'], ['merchant'], ['food'], ['checkers'], ['probabilities'], ['bead'], ['attacker'], ['connections'], ['ponds'], ['installations'], ['mats'], ['fists'], ['preference'], ['alibi'], ['miles'], ['jeopardy'], ['watts'], ['fakes'], ['mondays'], ['lamp'], ['mules'], ['limes'], ['diesel'], ['algorithm'], ['originators'], ['tuition'], ['rocks'], ['sunset'], ['horizons'], ['navigation'], ['terminology'], ['americans'], ['switches'], ['background'], ['heading'], ['analysis'], ['plate'], ['brace'], ['concurrence'], ['bath'], ['capstan'], ['vents'], ['rear'], ['halyards'], ['detachment'], ['vectors'], ['ladder'], ['fake'], ['reliability'], ['color'], ['dyes'], ['places'], ['kite'], ['winch'], ['waists'], ['tune'], ['interviews'], ['alternation'], ['chase'], ['purposes'], ['increases'], ['wage'], ['longitudes'], ['dollar'], ['effort'], ['profile'], ['advance'], ['east'], ['acceptors'], ['energizer'], ['resource'], ['capacities'], ['computers'], ['legs'], ['cars'], ['gallows'], ['gases'], ['slash'], ['flame'], ['humps'], ['relocations'], ['lightning'], ['variations'], ['suggestion'], ['hydraulics'], ['variation'], ['sled'], ['towel'], ['spacer'], ['capacity'], ['farads'], ['bells'], ['dock'], ['grades'], ['contact'], ['books'], ['counsel'], ['automobile'], ['tempers'], ['recordkeeping'], ['computation'], ['usage'], ['tops'], ['plants'], ['profit'], ['worries'], ['privilege'], ['outfits'], ['aid'], ['tourniquet'], ['wartime'], ['stool'], ['troubles'], ['knot'], ['sterilizer'], ['distribution'], ['beach'], ['timers'], ['heights'], ['ray'], ['hardcopy'], ['negligence'], ['talks'], ['stencil'], ['capes'], ['puff'], ['reservoirs'], ['removals'], ['feeders'], ['ores'], ['forts'], ['rebound'], ['voucher'], ['hoop'], ['balls'], ['hyphen'], ['restaurants'], ['flanges'], ['sprayer'], ['front'], ['profession'], ['presumption'], ['corks'], ['runs'], ['hull'], ['journals'], ['clericals'], ['plots'], ['mess'], ['act'], ['crack'], ['management'], ['uniform'], ['coughs'], ['receipt'], ['destination'], ['residents'], ['accumulations'], ['alignments'], ['alignment'], ['housing'], ['safeguard'], ['credit']]\n"
     ]
    },
    {
     "name": "stdout",
     "output_type": "stream",
     "text": [
      "Duration time: 7.368456125259399\n"
     ]
    }
   ],
   "source": [
    "import time\n",
    "\n",
    "random.seed(0)\n",
    "\n",
    "data = []\n",
    "w = RandomWords()\n",
    "for i in range(0, 5000):\n",
    "    data.append(w.random_words())\n",
    "print(data)\n",
    "\n",
    "def bubble_sort(data):\n",
    "    length = len(data)\n",
    "    for iIndex in range(length):\n",
    "        swapped = False\n",
    "        for jIndex in range(0, length - iIndex - 1):\n",
    "            if data[jIndex] > data[jIndex + 1]:\n",
    "               data[jIndex], data[jIndex + 1] = data[jIndex + 1], data[jIndex]\n",
    "               swapped = True\n",
    "        if not swapped:\n",
    "            break\n",
    "\n",
    "cur_time = time.time()\n",
    "bubble_sort(data)\n",
    "print(f\"Duration time: {time.time() - cur_time}\")"
   ]
  },
  {
   "cell_type": "code",
   "execution_count": 40,
   "id": "2a646c14",
   "metadata": {},
   "outputs": [
    {
     "name": "stdout",
     "output_type": "stream",
     "text": [
      "1.78 ms ± 305 µs per loop (mean ± std. dev. of 7 runs, 10 loops each)\n"
     ]
    }
   ],
   "source": [
    "%timeit -n 10 bubble_sort(data)"
   ]
  },
  {
   "cell_type": "code",
   "execution_count": 12,
   "id": "bb713cbb",
   "metadata": {},
   "outputs": [],
   "source": [
    "import pylab"
   ]
  },
  {
   "cell_type": "code",
   "execution_count": 41,
   "id": "db098013",
   "metadata": {},
   "outputs": [
    {
     "name": "stdout",
     "output_type": "stream",
     "text": [
      "The autoreload extension is already loaded. To reload it, use:\n",
      "  %reload_ext autoreload\n"
     ]
    }
   ],
   "source": [
    "%load_ext autoreload"
   ]
  },
  {
   "cell_type": "code",
   "execution_count": 15,
   "id": "1d62da40",
   "metadata": {},
   "outputs": [],
   "source": [
    "\n",
    "\n"
   ]
  },
  {
   "cell_type": "code",
   "execution_count": 17,
   "id": "188f7299",
   "metadata": {},
   "outputs": [],
   "source": [
    "\n"
   ]
  },
  {
   "cell_type": "code",
   "execution_count": null,
   "id": "ffe3472b",
   "metadata": {},
   "outputs": [],
   "source": [
    "\n"
   ]
  },
  {
   "cell_type": "code",
   "execution_count": null,
   "id": "0e84e231",
   "metadata": {
    "scrolled": true
   },
   "outputs": [],
   "source": []
  },
  {
   "cell_type": "code",
   "execution_count": null,
   "id": "a6e71255",
   "metadata": {},
   "outputs": [],
   "source": []
  }
 ],
 "metadata": {
  "kernelspec": {
   "display_name": "Python 3 (ipykernel)",
   "language": "python",
   "name": "python3"
  },
  "language_info": {
   "codemirror_mode": {
    "name": "ipython",
    "version": 3
   },
   "file_extension": ".py",
   "mimetype": "text/x-python",
   "name": "python",
   "nbconvert_exporter": "python",
   "pygments_lexer": "ipython3",
   "version": "3.9.13"
  }
 },
 "nbformat": 4,
 "nbformat_minor": 5
}
